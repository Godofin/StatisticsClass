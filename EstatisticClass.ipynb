{
  "nbformat": 4,
  "nbformat_minor": 0,
  "metadata": {
    "colab": {
      "name": "EstatisticClass.ipynb",
      "provenance": [],
      "collapsed_sections": [],
      "authorship_tag": "ABX9TyMNOjNxtr+NMEiK9AxTELh5",
      "include_colab_link": true
    },
    "kernelspec": {
      "name": "python3",
      "display_name": "Python 3"
    },
    "language_info": {
      "name": "python"
    }
  },
  "cells": [
    {
      "cell_type": "markdown",
      "metadata": {
        "id": "view-in-github",
        "colab_type": "text"
      },
      "source": [
        "<a href=\"https://colab.research.google.com/github/Godofin/StatisticsClass-/blob/main/EstatisticClass.ipynb\" target=\"_parent\"><img src=\"https://colab.research.google.com/assets/colab-badge.svg\" alt=\"Open In Colab\"/></a>"
      ]
    },
    {
      "cell_type": "markdown",
      "source": [
        "# 01 - Import Libs"
      ],
      "metadata": {
        "id": "4ra-MxI64vqv"
      }
    },
    {
      "cell_type": "code",
      "execution_count": 51,
      "metadata": {
        "id": "8FpPyH5y15Fs"
      },
      "outputs": [],
      "source": [
        "import numpy as np\n",
        "import pandas as pd\n",
        "import math\n",
        "import matplotlib.pyplot as plt\n",
        "import seaborn as sns"
      ]
    },
    {
      "cell_type": "markdown",
      "source": [
        "## 02 - Create a DataSet"
      ],
      "metadata": {
        "id": "3AEWyLjM41Hc"
      }
    },
    {
      "cell_type": "code",
      "source": [
        "data = {\n",
        "    'height': [\n",
        "        166,162,161,150,162,160,165,167,164,160,\n",
        "        162,161,168,163,156,173,160,155,164,168,\n",
        "        155,152,163,160,155,155,169,151,170,164,\n",
        "        154,161,156,172,153,157,156,158,158,161\n",
        "    ]\n",
        "}\n",
        "\n",
        "df = pd.DataFrame(data)\n",
        "\n",
        "print(df)"
      ],
      "metadata": {
        "colab": {
          "base_uri": "https://localhost:8080/"
        },
        "id": "8uOdwcgV2Ci1",
        "outputId": "b84d0c3f-7237-41b8-de6c-1a64c3121e41"
      },
      "execution_count": 43,
      "outputs": [
        {
          "output_type": "stream",
          "name": "stdout",
          "text": [
            "    height\n",
            "0      166\n",
            "1      162\n",
            "2      161\n",
            "3      150\n",
            "4      162\n",
            "5      160\n",
            "6      165\n",
            "7      167\n",
            "8      164\n",
            "9      160\n",
            "10     162\n",
            "11     161\n",
            "12     168\n",
            "13     163\n",
            "14     156\n",
            "15     173\n",
            "16     160\n",
            "17     155\n",
            "18     164\n",
            "19     168\n",
            "20     155\n",
            "21     152\n",
            "22     163\n",
            "23     160\n",
            "24     155\n",
            "25     155\n",
            "26     169\n",
            "27     151\n",
            "28     170\n",
            "29     164\n",
            "30     154\n",
            "31     161\n",
            "32     156\n",
            "33     172\n",
            "34     153\n",
            "35     157\n",
            "36     156\n",
            "37     158\n",
            "38     158\n",
            "39     161\n"
          ]
        }
      ]
    },
    {
      "cell_type": "markdown",
      "source": [
        "# 03 - Operations"
      ],
      "metadata": {
        "id": "f5TTi2HC49HE"
      }
    },
    {
      "cell_type": "code",
      "source": [
        "# df.describe()\n",
        "max_weight = df['height'].max()\n",
        "min_weight = df['height'].min()\n",
        "count_weight = df['height'].count()\n",
        "totalRange = (max_weight - min_weight)\n",
        "\n",
        "print(\"The max value from dataset is: \", max_weight, \n",
        "      \"\\nThe min value from dataset is: \", min_weight,\n",
        "      \"\\nThe count of values from dataset is: \", count_weight,\n",
        "      \"\\nThe total range is: \", totalRange)"
      ],
      "metadata": {
        "colab": {
          "base_uri": "https://localhost:8080/"
        },
        "id": "G7IWohZA4kuM",
        "outputId": "758ec789-8da4-42c2-d1cb-9b805d58eeb3"
      },
      "execution_count": 50,
      "outputs": [
        {
          "output_type": "stream",
          "name": "stdout",
          "text": [
            "The max value from dataset is:  173 \n",
            "The min value from dataset is:  150 \n",
            "The count of values from dataset is:  40 \n",
            "The total range is:  23\n"
          ]
        }
      ]
    },
    {
      "cell_type": "markdown",
      "source": [
        "Class amplitude"
      ],
      "metadata": {
        "id": "IjXNl3XO7C0B"
      }
    },
    {
      "cell_type": "code",
      "source": [
        "#  k = SquareRoot(lenghDataFrame)\n",
        "k = math.sqrt(len(df))\n",
        "# h = TotalRange/IntervalClassRange\n",
        "h = totalRange/k\n",
        "h = math.ceil(h) #Arred values\n",
        "print(\"The number of classes is: \", k)\n",
        "print(\"The Interval Class Range(h) is: \", h)"
      ],
      "metadata": {
        "colab": {
          "base_uri": "https://localhost:8080/"
        },
        "id": "zFI2AlUj5XxH",
        "outputId": "5edd96c8-700f-4da6-a3eb-0a0c4fcaadd2"
      },
      "execution_count": 45,
      "outputs": [
        {
          "output_type": "stream",
          "name": "stdout",
          "text": [
            "The number of classes is:  6.324555320336759\n",
            "The Interval Class Range(h) is:  4\n"
          ]
        }
      ]
    },
    {
      "cell_type": "markdown",
      "source": [
        "# 04 - Histogram"
      ],
      "metadata": {
        "id": "RWFhTtxe-0wv"
      }
    },
    {
      "cell_type": "code",
      "source": [
        "sns.histplot(data=df, x='height', stat=\"percent\")"
      ],
      "metadata": {
        "colab": {
          "base_uri": "https://localhost:8080/",
          "height": 299
        },
        "id": "FtXR4tvrCokG",
        "outputId": "628b9e0b-fd7a-46d5-ab99-4d1937474840"
      },
      "execution_count": 58,
      "outputs": [
        {
          "output_type": "execute_result",
          "data": {
            "text/plain": [
              "<matplotlib.axes._subplots.AxesSubplot at 0x7fdb67607350>"
            ]
          },
          "metadata": {},
          "execution_count": 58
        },
        {
          "output_type": "display_data",
          "data": {
            "text/plain": [
              "<Figure size 432x288 with 1 Axes>"
            ],
            "image/png": "[encoded data removed]"
          },
          "metadata": {}
        }
      ]
    },
    {
      "cell_type": "code",
      "source": [],
      "metadata": {
        "id": "C8j4nYKzE3kn"
      },
      "execution_count": null,
      "outputs": []
    }
  ]
}